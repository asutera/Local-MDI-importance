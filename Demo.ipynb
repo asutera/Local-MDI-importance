{
 "cells": [
  {
   "cell_type": "markdown",
   "metadata": {},
   "source": [
    "## Preamble"
   ]
  },
  {
   "cell_type": "code",
   "execution_count": 1,
   "metadata": {},
   "outputs": [],
   "source": [
    "# Useful packages\n",
    "import os\n",
    "import numpy as np\n",
    "import scipy\n",
    "from sklearn.ensemble import ExtraTreesClassifier\n",
    "from utils import dataset_classification, measure_time,coloring, digits_mini, led_mini"
   ]
  },
  {
   "cell_type": "code",
   "execution_count": 2,
   "metadata": {},
   "outputs": [],
   "source": [
    "# Other local importance measures\n",
    "import shap\n",
    "from treeinterpreter import treeinterpreter as ti"
   ]
  },
  {
   "cell_type": "code",
   "execution_count": 3,
   "metadata": {},
   "outputs": [],
   "source": [
    "# Local MDI \n",
    "import LocalMDI_cy"
   ]
  },
  {
   "cell_type": "markdown",
   "metadata": {},
   "source": [
    "## Model and data"
   ]
  },
  {
   "cell_type": "code",
   "execution_count": 4,
   "metadata": {},
   "outputs": [],
   "source": [
    "# Choose a dataset\n",
    "name = \"digits\"\n",
    "# Make a dataset\n",
    "X, y = dataset_classification(name)\n",
    "# Get the size of dataset\n",
    "n_samples, n_features = X.shape \n",
    "# Required change of input type\n",
    "X = np.asarray(X, dtype=np.float32) "
   ]
  },
  {
   "cell_type": "code",
   "execution_count": 5,
   "metadata": {},
   "outputs": [],
   "source": [
    "# Set up the model\n",
    "n_estimators = 1000\n",
    "K = n_features\n",
    "model = ExtraTreesClassifier(n_estimators=n_estimators, \n",
    "                             max_features=K, \n",
    "                             max_depth=None,\n",
    "                             min_samples_split=2, \n",
    "                             criterion='entropy', \n",
    "                             verbose=0, n_jobs=-1)"
   ]
  },
  {
   "cell_type": "markdown",
   "metadata": {},
   "source": [
    "## Training the model"
   ]
  },
  {
   "cell_type": "code",
   "execution_count": 6,
   "metadata": {},
   "outputs": [
    {
     "name": "stdout",
     "output_type": "stream",
     "text": [
      "Duration of [Building the forest model...]: 0:00:01.557837\n"
     ]
    }
   ],
   "source": [
    "with measure_time(\"Building the forest model...\"):\n",
    "    model.fit(X, y)"
   ]
  },
  {
   "cell_type": "markdown",
   "metadata": {},
   "source": [
    "## Computing local importance scores"
   ]
  },
  {
   "cell_type": "code",
   "execution_count": 7,
   "metadata": {},
   "outputs": [
    {
     "name": "stdout",
     "output_type": "stream",
     "text": [
      "\n",
      "Duration of [Computing local MDI...]: 0:00:00.179553\n"
     ]
    }
   ],
   "source": [
    "# Local MDI\n",
    "with measure_time(\"Computing local MDI...\"):\n",
    "    LMDI = LocalMDI_cy.compute_mdi_local_ens(model, X)"
   ]
  },
  {
   "cell_type": "code",
   "execution_count": 8,
   "metadata": {},
   "outputs": [
    {
     "name": "stdout",
     "output_type": "stream",
     "text": [
      "Duration of [Computing TreeSHAP...]: 0:02:12.422528\n"
     ]
    }
   ],
   "source": [
    "# TreeSHAP\n",
    "with measure_time(\"Computing TreeSHAP...\"):\n",
    "    shap_ = shap.TreeExplainer(model).shap_values(X)\n",
    "# For sake of simplicity\n",
    "shap_values = np.zeros((len(np.unique(y)),n_samples, n_features))\n",
    "for j in range(len(np.unique(y))):\n",
    "    shap_values[j,:,:] = shap_[j]"
   ]
  },
  {
   "cell_type": "code",
   "execution_count": 9,
   "metadata": {},
   "outputs": [
    {
     "name": "stdout",
     "output_type": "stream",
     "text": [
      "Duration of [Computing Saabas...]: 0:00:11.557491\n"
     ]
    }
   ],
   "source": [
    "# SAABAS\n",
    "with measure_time(\"Computing Saabas...\"):\n",
    "    prediction, _, contributions = ti.predict(model, X)"
   ]
  },
  {
   "cell_type": "code",
   "execution_count": 10,
   "metadata": {},
   "outputs": [],
   "source": [
    "SAAB = np.zeros((n_samples, n_features))\n",
    "SHAP = np.zeros((n_samples, n_features))\n",
    "# TreeSHAP and Saabas values are per class\n",
    "# Here, importance score is with respect to the predicted class\n",
    "for j in range(n_samples):\n",
    "    SAAB[j,:] = contributions[j,:,prediction[j]==1]\n",
    "    SHAP[j,:] = shap_values[prediction[j]==1,j,:]"
   ]
  },
  {
   "cell_type": "code",
   "execution_count": 11,
   "metadata": {},
   "outputs": [],
   "source": [
    "# Normalization & absolute value\n",
    "#LMDI = np.abs(LMDI)\n",
    "#SHAP = np.abs(SHAP)\n",
    "#SAAB = np.abs(SAAB)\n",
    "for i in range(n_samples):\n",
    "    LMDI[j,:] /= np.sum(np.abs(LMDI[j,:]))\n",
    "    SHAP[j,:] /= np.sum(np.abs(SHAP[j,:]))\n",
    "    SAAB[j,:] /= np.sum(np.abs(SAAB[j,:]))\n"
   ]
  },
  {
   "cell_type": "code",
   "execution_count": 12,
   "metadata": {},
   "outputs": [
    {
     "data": {
      "image/png": "[encoded data removed]",
      "text/plain": [
       "<Figure size 576x216 with 5 Axes>"
      ]
     },
     "metadata": {
      "needs_background": "light"
     },
     "output_type": "display_data"
    }
   ],
   "source": [
    "# As an illustration\n",
    "if name == \"led\":\n",
    "    led_mini(LMDI, SHAP, SAAB, X, 9)\n",
    "elif name == \"digits\":\n",
    "    digits_mini(LMDI, SHAP, SAAB, X, 0)"
   ]
  }
 ],
 "metadata": {
  "kernelspec": {
   "display_name": "Python 3",
   "language": "python",
   "name": "python3"
  },
  "language_info": {
   "codemirror_mode": {
    "name": "ipython",
    "version": 3
   },
   "file_extension": ".py",
   "mimetype": "text/x-python",
   "name": "python",
   "nbconvert_exporter": "python",
   "pygments_lexer": "ipython3",
   "version": "3.8.2"
  }
 },
 "nbformat": 4,
 "nbformat_minor": 4
}
